{
 "cells": [
  {
   "cell_type": "code",
   "execution_count": 1,
   "id": "c45c1bff-281e-4ea7-a488-787754c35fa1",
   "metadata": {},
   "outputs": [],
   "source": [
    "import cv2\n",
    "import numpy as np"
   ]
  },
  {
   "cell_type": "code",
   "execution_count": 3,
   "id": "8d280e83-3caa-41bd-8328-0d24aa7f1fd3",
   "metadata": {},
   "outputs": [],
   "source": [
    "def display(title, img):\n",
    "    cv2.imshow(title, img)\n",
    "    # Chờ một khoảng thời gian\n",
    "    cv2.waitKey(0)\n",
    "    # Đóng window\n",
    "    cv2.destroyWindow(title)"
   ]
  },
  {
   "cell_type": "code",
   "execution_count": 19,
   "id": "05faa5b1-af76-4eb5-a6d2-c4808d2c170a",
   "metadata": {},
   "outputs": [
    {
     "ename": "error",
     "evalue": "OpenCV(4.10.0) D:\\a\\opencv-python\\opencv-python\\opencv\\modules\\highgui\\src\\window_w32.cpp:1261: error: (-27:Null pointer) NULL window: 'Image' in function 'cvDestroyWindow'\n",
     "output_type": "error",
     "traceback": [
      "\u001b[1;31m---------------------------------------------------------------------------\u001b[0m",
      "\u001b[1;31merror\u001b[0m                                     Traceback (most recent call last)",
      "Cell \u001b[1;32mIn[19], line 3\u001b[0m\n\u001b[0;32m      1\u001b[0m \u001b[38;5;66;03m#Tao 1 anh\u001b[39;00m\n\u001b[0;32m      2\u001b[0m img \u001b[38;5;241m=\u001b[39m np\u001b[38;5;241m.\u001b[39mzeros((\u001b[38;5;241m400\u001b[39m, \u001b[38;5;241m400\u001b[39m, \u001b[38;5;241m3\u001b[39m), dtype\u001b[38;5;241m=\u001b[39mnp\u001b[38;5;241m.\u001b[39muint8)\n\u001b[1;32m----> 3\u001b[0m display(\u001b[38;5;124m'\u001b[39m\u001b[38;5;124mImage\u001b[39m\u001b[38;5;124m'\u001b[39m, img)\n",
      "Cell \u001b[1;32mIn[3], line 6\u001b[0m, in \u001b[0;36mdisplay\u001b[1;34m(title, img)\u001b[0m\n\u001b[0;32m      4\u001b[0m cv2\u001b[38;5;241m.\u001b[39mwaitKey(\u001b[38;5;241m0\u001b[39m)\n\u001b[0;32m      5\u001b[0m \u001b[38;5;66;03m# Đóng window\u001b[39;00m\n\u001b[1;32m----> 6\u001b[0m cv2\u001b[38;5;241m.\u001b[39mdestroyWindow(title)\n",
      "\u001b[1;31merror\u001b[0m: OpenCV(4.10.0) D:\\a\\opencv-python\\opencv-python\\opencv\\modules\\highgui\\src\\window_w32.cpp:1261: error: (-27:Null pointer) NULL window: 'Image' in function 'cvDestroyWindow'\n"
     ]
    }
   ],
   "source": [
    "#Tao 1 anh\n",
    "img = np.zeros((400, 400, 3), dtype=np.uint8)\n",
    "display('Image', img)"
   ]
  },
  {
   "cell_type": "code",
   "execution_count": 23,
   "id": "2ed2a603-2fac-4648-a4fe-489d024b3f32",
   "metadata": {},
   "outputs": [
    {
     "ename": "error",
     "evalue": "OpenCV(4.10.0) D:\\a\\opencv-python\\opencv-python\\opencv\\modules\\highgui\\src\\window_w32.cpp:1261: error: (-27:Null pointer) NULL window: 'Image' in function 'cvDestroyWindow'\n",
     "output_type": "error",
     "traceback": [
      "\u001b[1;31m---------------------------------------------------------------------------\u001b[0m",
      "\u001b[1;31merror\u001b[0m                                     Traceback (most recent call last)",
      "Cell \u001b[1;32mIn[23], line 3\u001b[0m\n\u001b[0;32m      1\u001b[0m \u001b[38;5;66;03m#Ve duong thang\u001b[39;00m\n\u001b[0;32m      2\u001b[0m cv2\u001b[38;5;241m.\u001b[39mline(img, (\u001b[38;5;241m50\u001b[39m, \u001b[38;5;241m50\u001b[39m) , (\u001b[38;5;241m350\u001b[39m, \u001b[38;5;241m50\u001b[39m) , (\u001b[38;5;241m0\u001b[39m, \u001b[38;5;241m0\u001b[39m, \u001b[38;5;241m255\u001b[39m), \u001b[38;5;241m2\u001b[39m)\n\u001b[1;32m----> 3\u001b[0m display(\u001b[38;5;124m'\u001b[39m\u001b[38;5;124mImage\u001b[39m\u001b[38;5;124m'\u001b[39m, img)\n",
      "Cell \u001b[1;32mIn[3], line 6\u001b[0m, in \u001b[0;36mdisplay\u001b[1;34m(title, img)\u001b[0m\n\u001b[0;32m      4\u001b[0m cv2\u001b[38;5;241m.\u001b[39mwaitKey(\u001b[38;5;241m0\u001b[39m)\n\u001b[0;32m      5\u001b[0m \u001b[38;5;66;03m# Đóng window\u001b[39;00m\n\u001b[1;32m----> 6\u001b[0m cv2\u001b[38;5;241m.\u001b[39mdestroyWindow(title)\n",
      "\u001b[1;31merror\u001b[0m: OpenCV(4.10.0) D:\\a\\opencv-python\\opencv-python\\opencv\\modules\\highgui\\src\\window_w32.cpp:1261: error: (-27:Null pointer) NULL window: 'Image' in function 'cvDestroyWindow'\n"
     ]
    }
   ],
   "source": [
    "#Ve duong thang\n",
    "cv2.line(img, (50, 50) , (350, 50) , (0, 0, 255), 2)\n",
    "display('Image', img)"
   ]
  },
  {
   "cell_type": "code",
   "execution_count": 25,
   "id": "6b21e04e-df32-4452-9058-6da736ad2c77",
   "metadata": {},
   "outputs": [
    {
     "ename": "error",
     "evalue": "OpenCV(4.10.0) D:\\a\\opencv-python\\opencv-python\\opencv\\modules\\highgui\\src\\window_w32.cpp:1261: error: (-27:Null pointer) NULL window: 'Image' in function 'cvDestroyWindow'\n",
     "output_type": "error",
     "traceback": [
      "\u001b[1;31m---------------------------------------------------------------------------\u001b[0m",
      "\u001b[1;31merror\u001b[0m                                     Traceback (most recent call last)",
      "Cell \u001b[1;32mIn[25], line 3\u001b[0m\n\u001b[0;32m      1\u001b[0m \u001b[38;5;66;03m#Ve duong tron\u001b[39;00m\n\u001b[0;32m      2\u001b[0m cv2\u001b[38;5;241m.\u001b[39mcircle(img, (\u001b[38;5;241m100\u001b[39m, \u001b[38;5;241m100\u001b[39m) , \u001b[38;5;241m50\u001b[39m , (\u001b[38;5;241m0\u001b[39m, \u001b[38;5;241m255\u001b[39m, \u001b[38;5;241m0\u001b[39m), \u001b[38;5;241m2\u001b[39m)\n\u001b[1;32m----> 3\u001b[0m display(\u001b[38;5;124m'\u001b[39m\u001b[38;5;124mImage\u001b[39m\u001b[38;5;124m'\u001b[39m, img)\n",
      "Cell \u001b[1;32mIn[3], line 6\u001b[0m, in \u001b[0;36mdisplay\u001b[1;34m(title, img)\u001b[0m\n\u001b[0;32m      4\u001b[0m cv2\u001b[38;5;241m.\u001b[39mwaitKey(\u001b[38;5;241m0\u001b[39m)\n\u001b[0;32m      5\u001b[0m \u001b[38;5;66;03m# Đóng window\u001b[39;00m\n\u001b[1;32m----> 6\u001b[0m cv2\u001b[38;5;241m.\u001b[39mdestroyWindow(title)\n",
      "\u001b[1;31merror\u001b[0m: OpenCV(4.10.0) D:\\a\\opencv-python\\opencv-python\\opencv\\modules\\highgui\\src\\window_w32.cpp:1261: error: (-27:Null pointer) NULL window: 'Image' in function 'cvDestroyWindow'\n"
     ]
    }
   ],
   "source": [
    "#Ve duong tron\n",
    "cv2.circle(img, (100, 100) , 50 , (0, 255, 0), 2)\n",
    "display('Image', img)"
   ]
  },
  {
   "cell_type": "code",
   "execution_count": 27,
   "id": "a0093982-72fe-4bf9-9e51-d27b90153f86",
   "metadata": {},
   "outputs": [
    {
     "ename": "error",
     "evalue": "OpenCV(4.10.0) D:\\a\\opencv-python\\opencv-python\\opencv\\modules\\highgui\\src\\window_w32.cpp:1261: error: (-27:Null pointer) NULL window: 'Image' in function 'cvDestroyWindow'\n",
     "output_type": "error",
     "traceback": [
      "\u001b[1;31m---------------------------------------------------------------------------\u001b[0m",
      "\u001b[1;31merror\u001b[0m                                     Traceback (most recent call last)",
      "Cell \u001b[1;32mIn[27], line 3\u001b[0m\n\u001b[0;32m      1\u001b[0m \u001b[38;5;66;03m#Ve hinh trong\u001b[39;00m\n\u001b[0;32m      2\u001b[0m cv2\u001b[38;5;241m.\u001b[39mrectangle(img, (\u001b[38;5;241m100\u001b[39m,\u001b[38;5;241m100\u001b[39m), (\u001b[38;5;241m300\u001b[39m,\u001b[38;5;241m300\u001b[39m), (\u001b[38;5;241m255\u001b[39m,\u001b[38;5;241m0\u001b[39m,\u001b[38;5;241m0\u001b[39m), \u001b[38;5;241m2\u001b[39m)\n\u001b[1;32m----> 3\u001b[0m display(\u001b[38;5;124m'\u001b[39m\u001b[38;5;124mImage\u001b[39m\u001b[38;5;124m'\u001b[39m, img)\n",
      "Cell \u001b[1;32mIn[3], line 6\u001b[0m, in \u001b[0;36mdisplay\u001b[1;34m(title, img)\u001b[0m\n\u001b[0;32m      4\u001b[0m cv2\u001b[38;5;241m.\u001b[39mwaitKey(\u001b[38;5;241m0\u001b[39m)\n\u001b[0;32m      5\u001b[0m \u001b[38;5;66;03m# Đóng window\u001b[39;00m\n\u001b[1;32m----> 6\u001b[0m cv2\u001b[38;5;241m.\u001b[39mdestroyWindow(title)\n",
      "\u001b[1;31merror\u001b[0m: OpenCV(4.10.0) D:\\a\\opencv-python\\opencv-python\\opencv\\modules\\highgui\\src\\window_w32.cpp:1261: error: (-27:Null pointer) NULL window: 'Image' in function 'cvDestroyWindow'\n"
     ]
    }
   ],
   "source": [
    "#Ve hinh trong\n",
    "cv2.rectangle(img, (100,100), (300,300), (255,0,0), 2)\n",
    "display('Image', img)"
   ]
  },
  {
   "cell_type": "code",
   "execution_count": 29,
   "id": "ba6a1a9e-c37c-4730-be68-7fb4116d9919",
   "metadata": {},
   "outputs": [
    {
     "ename": "error",
     "evalue": "OpenCV(4.10.0) D:\\a\\opencv-python\\opencv-python\\opencv\\modules\\highgui\\src\\window_w32.cpp:1261: error: (-27:Null pointer) NULL window: 'Image' in function 'cvDestroyWindow'\n",
     "output_type": "error",
     "traceback": [
      "\u001b[1;31m---------------------------------------------------------------------------\u001b[0m",
      "\u001b[1;31merror\u001b[0m                                     Traceback (most recent call last)",
      "Cell \u001b[1;32mIn[29], line 5\u001b[0m\n\u001b[0;32m      3\u001b[0m font \u001b[38;5;241m=\u001b[39m cv2\u001b[38;5;241m.\u001b[39mFONT_HERSHEY_SIMPLEX\n\u001b[0;32m      4\u001b[0m cv2\u001b[38;5;241m.\u001b[39mputText(img, content, (\u001b[38;5;241m10\u001b[39m, \u001b[38;5;241m380\u001b[39m), font, \u001b[38;5;241m0.6\u001b[39m, (\u001b[38;5;241m255\u001b[39m, \u001b[38;5;241m255\u001b[39m, \u001b[38;5;241m255\u001b[39m), \u001b[38;5;241m2\u001b[39m)\n\u001b[1;32m----> 5\u001b[0m display(\u001b[38;5;124m'\u001b[39m\u001b[38;5;124mImage\u001b[39m\u001b[38;5;124m'\u001b[39m, img)\n",
      "Cell \u001b[1;32mIn[3], line 6\u001b[0m, in \u001b[0;36mdisplay\u001b[1;34m(title, img)\u001b[0m\n\u001b[0;32m      4\u001b[0m cv2\u001b[38;5;241m.\u001b[39mwaitKey(\u001b[38;5;241m0\u001b[39m)\n\u001b[0;32m      5\u001b[0m \u001b[38;5;66;03m# Đóng window\u001b[39;00m\n\u001b[1;32m----> 6\u001b[0m cv2\u001b[38;5;241m.\u001b[39mdestroyWindow(title)\n",
      "\u001b[1;31merror\u001b[0m: OpenCV(4.10.0) D:\\a\\opencv-python\\opencv-python\\opencv\\modules\\highgui\\src\\window_w32.cpp:1261: error: (-27:Null pointer) NULL window: 'Image' in function 'cvDestroyWindow'\n"
     ]
    }
   ],
   "source": [
    "#Ghi tex len anh\n",
    "content = 'Nguyen Duc Hieu'\n",
    "font = cv2.FONT_HERSHEY_SIMPLEX\n",
    "cv2.putText(img, content, (10, 380), font, 0.6, (255, 255, 255), 2)\n",
    "display('Image', img)"
   ]
  }
 ],
 "metadata": {
  "kernelspec": {
   "display_name": "Python 3 (ipykernel)",
   "language": "python",
   "name": "python3"
  },
  "language_info": {
   "codemirror_mode": {
    "name": "ipython",
    "version": 3
   },
   "file_extension": ".py",
   "mimetype": "text/x-python",
   "name": "python",
   "nbconvert_exporter": "python",
   "pygments_lexer": "ipython3",
   "version": "3.12.4"
  }
 },
 "nbformat": 4,
 "nbformat_minor": 5
}
