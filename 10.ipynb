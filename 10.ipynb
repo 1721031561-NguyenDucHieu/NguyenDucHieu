{
 "cells": [
  {
   "cell_type": "code",
   "execution_count": 1,
   "id": "bb69e275-fdaf-42e5-a2d4-14ebb3a00316",
   "metadata": {},
   "outputs": [],
   "source": [
    "from PIL import Image\n",
    "import matplotlib.pyplot as plt"
   ]
  },
  {
   "cell_type": "code",
   "execution_count": 2,
   "id": "d0097929-9d0e-406d-a904-be9638212251",
   "metadata": {},
   "outputs": [
    {
     "name": "stdout",
     "output_type": "stream",
     "text": [
      "[(131.11290322580643, 286.61290322580635), (251.8870967741935, 238.61290322580635), (126.46774193548387, 162.74193548387086), (219.37096774193546, 137.9677419354838), (722.5967741935483, 342.3548387096773)]\n"
     ]
    }
   ],
   "source": [
    "my_path = 'C:/Users/nk/Pictures/Meme/1.jpg'\n",
    "im = Image.open(my_path)\n",
    "plt.switch_backend('tkagg')\n",
    "plt.imshow(im)\n",
    "plt.title(\"Chon diem tren anh\")\n",
    "points = plt.ginput(5)\n",
    "print(points)\n",
    "plt.show()"
   ]
  },
  {
   "cell_type": "code",
   "execution_count": null,
   "id": "71d55bb8-fc0a-44ad-a173-ede979d9f3a7",
   "metadata": {},
   "outputs": [],
   "source": [
    "plt.close()\n",
    "plt.imshow(im)\n",
    "for point in points:\n",
    "    x,y = point\n",
    "    plt.plot(x,y, 'r*')\n",
    "    plt.show()"
   ]
  },
  {
   "cell_type": "code",
   "execution_count": null,
   "id": "5aca7712-6297-47e0-9973-25369786d31a",
   "metadata": {},
   "outputs": [],
   "source": []
  }
 ],
 "metadata": {
  "kernelspec": {
   "display_name": "Python 3 (ipykernel)",
   "language": "python",
   "name": "python3"
  },
  "language_info": {
   "codemirror_mode": {
    "name": "ipython",
    "version": 3
   },
   "file_extension": ".py",
   "mimetype": "text/x-python",
   "name": "python",
   "nbconvert_exporter": "python",
   "pygments_lexer": "ipython3",
   "version": "3.12.4"
  }
 },
 "nbformat": 4,
 "nbformat_minor": 5
}
