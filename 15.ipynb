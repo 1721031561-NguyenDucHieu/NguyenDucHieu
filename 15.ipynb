{
 "cells": [
  {
   "cell_type": "code",
   "execution_count": 1,
   "id": "cb1e1d55-eef3-4392-80a6-bd9bb3444466",
   "metadata": {},
   "outputs": [
    {
     "name": "stdout",
     "output_type": "stream",
     "text": [
      "Requirement already satisfied: scipy in d:\\anaconda\\lib\\site-packages (1.13.1)\n",
      "Requirement already satisfied: numpy<2.3,>=1.22.4 in d:\\anaconda\\lib\\site-packages (from scipy) (1.26.4)\n"
     ]
    }
   ],
   "source": [
    "#!pip install scipy"
   ]
  },
  {
   "cell_type": "code",
   "execution_count": 4,
   "id": "10163005-aea7-44ff-b266-deb2fd501344",
   "metadata": {},
   "outputs": [],
   "source": [
    "from scipy import linalg \n",
    "import numpy as np "
   ]
  },
  {
   "cell_type": "code",
   "execution_count": 6,
   "id": "6eea75cc-bedf-4fd8-afb4-a059deb26b6f",
   "metadata": {},
   "outputs": [
    {
     "name": "stdout",
     "output_type": "stream",
     "text": [
      "Ket qua: [ 3. -1.]\n"
     ]
    }
   ],
   "source": [
    "#Dinh nghia he phuong trinh tuyen tinh\n",
    "a = np.array([[2, 1],[3, 2]])\n",
    "b = np.array([5, 7])\n",
    "#Giai he phuong trinh\n",
    "x = linalg.solve(a,b)\n",
    "print(\"Ket qua:\", x)"
   ]
  },
  {
   "cell_type": "code",
   "execution_count": 29,
   "id": "5f4ae03e-46fc-4b08-9dca-7ca7e4a49be1",
   "metadata": {},
   "outputs": [
    {
     "name": "stdout",
     "output_type": "stream",
     "text": [
      "Tich phan f(x) tu 0 den 1:  (0.33333333333333337, 3.700743415417189e-15)\n"
     ]
    }
   ],
   "source": [
    "#Tich phan cua 1 ham so\n",
    "from scipy import integrate\n",
    "#Dinh nghia f(x)=x^2\n",
    "def my_function(x):\n",
    "    return x**2\n",
    "#Tinh tich phan cua f(x) tu 0 -> 1\n",
    "integral = integrate.quad(my_function, 0, 1);\n",
    "print(\"Tich phan f(x) tu 0 den 1: \", integral)"
   ]
  },
  {
   "cell_type": "code",
   "execution_count": 6,
   "id": "b315688f-c03c-48f5-bb5d-5326c95fe734",
   "metadata": {},
   "outputs": [
    {
     "name": "stdout",
     "output_type": "stream",
     "text": [
      "Giá trị riêng:  [3.73205081+0.j 0.26794919+0.j]\n",
      "Vector riêng:  [[ 0.5       -0.5      ]\n",
      " [ 0.8660254  0.8660254]]\n"
     ]
    }
   ],
   "source": [
    "#!pip install scipy\n",
    "from scipy import linalg\n",
    "import numpy as np\n",
    "# Tinh gia tri rieng va vector rieng cua mot ma tran \n",
    "a = np.array([[2, 1],[3, 2]])\n",
    "# Tinh gia tri rieng va vector rieng ma tran \n",
    "evals, evecs = linalg.eig(a)\n",
    "print(\"Giá trị riêng: \", evals)\n",
    "print(\"Vector riêng: \", evecs)"
   ]
  }
 ],
 "metadata": {
  "kernelspec": {
   "display_name": "Python 3 (ipykernel)",
   "language": "python",
   "name": "python3"
  },
  "language_info": {
   "codemirror_mode": {
    "name": "ipython",
    "version": 3
   },
   "file_extension": ".py",
   "mimetype": "text/x-python",
   "name": "python",
   "nbconvert_exporter": "python",
   "pygments_lexer": "ipython3",
   "version": "3.12.4"
  }
 },
 "nbformat": 4,
 "nbformat_minor": 5
}
