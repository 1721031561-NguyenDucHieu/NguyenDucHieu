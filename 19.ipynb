{
 "cells": [
  {
   "cell_type": "code",
   "execution_count": 1,
   "id": "a5cb20fa-a87a-4bcf-9aa3-40d7daf1d1f0",
   "metadata": {},
   "outputs": [
    {
     "name": "stdout",
     "output_type": "stream",
     "text": [
      "Collecting opencv-python\n",
      "  Downloading opencv_python-4.10.0.84-cp37-abi3-win_amd64.whl.metadata (20 kB)\n",
      "Requirement already satisfied: numpy>=1.21.2 in d:\\anaconda\\lib\\site-packages (from opencv-python) (1.26.4)\n",
      "Downloading opencv_python-4.10.0.84-cp37-abi3-win_amd64.whl (38.8 MB)\n",
      "   ---------------------------------------- 0.0/38.8 MB ? eta -:--:--\n",
      "   - -------------------------------------- 1.6/38.8 MB 12.0 MB/s eta 0:00:04\n",
      "   --------- ------------------------------ 9.2/38.8 MB 28.6 MB/s eta 0:00:02\n",
      "   ----------------- ---------------------- 16.5/38.8 MB 31.5 MB/s eta 0:00:01\n",
      "   ------------------------ --------------- 23.9/38.8 MB 32.8 MB/s eta 0:00:01\n",
      "   -------------------------------- ------- 31.2/38.8 MB 33.0 MB/s eta 0:00:01\n",
      "   ---------------------------------------  38.8/38.8 MB 34.3 MB/s eta 0:00:01\n",
      "   ---------------------------------------- 38.8/38.8 MB 32.1 MB/s eta 0:00:00\n",
      "Installing collected packages: opencv-python\n",
      "Successfully installed opencv-python-4.10.0.84\n"
     ]
    }
   ],
   "source": [
    "!pip install opencv-python"
   ]
  },
  {
   "cell_type": "code",
   "execution_count": 3,
   "id": "2a7a9667-b12a-4581-9341-4b761622db34",
   "metadata": {},
   "outputs": [],
   "source": [
    "\t\n",
    "def display(title, img):\n",
    "    cv2.imshow(title, img)\n",
    "    #Cho 1 khoang tg\n",
    "    cv2.waitKey(0)\n",
    "    #Dong window\n",
    "    cv2.destroyWindow(title)"
   ]
  },
  {
   "cell_type": "code",
   "execution_count": 1,
   "id": "dd936fd2-3579-44de-be76-70299000221a",
   "metadata": {},
   "outputs": [],
   "source": [
    "import cv2"
   ]
  },
  {
   "cell_type": "code",
   "execution_count": 5,
   "id": "da22cc3c-2ef1-4eb2-a5db-242a9c2e4a3f",
   "metadata": {},
   "outputs": [
    {
     "name": "stdout",
     "output_type": "stream",
     "text": [
      "[[[231 219 177]\n",
      "  [231 219 177]\n",
      "  [231 219 177]\n",
      "  ...\n",
      "  [231 219 177]\n",
      "  [231 219 177]\n",
      "  [231 219 177]]\n",
      "\n",
      " [[231 219 177]\n",
      "  [231 219 177]\n",
      "  [231 219 177]\n",
      "  ...\n",
      "  [231 219 177]\n",
      "  [231 219 177]\n",
      "  [231 219 177]]\n",
      "\n",
      " [[232 220 178]\n",
      "  [232 220 178]\n",
      "  [232 220 178]\n",
      "  ...\n",
      "  [231 219 177]\n",
      "  [231 219 177]\n",
      "  [231 219 177]]\n",
      "\n",
      " ...\n",
      "\n",
      " [[232 220 178]\n",
      "  [232 220 178]\n",
      "  [232 220 178]\n",
      "  ...\n",
      "  [232 220 178]\n",
      "  [232 220 178]\n",
      "  [232 220 178]]\n",
      "\n",
      " [[232 220 178]\n",
      "  [232 220 178]\n",
      "  [232 220 178]\n",
      "  ...\n",
      "  [232 220 178]\n",
      "  [232 220 178]\n",
      "  [232 220 178]]\n",
      "\n",
      " [[232 220 178]\n",
      "  [232 220 178]\n",
      "  [232 220 178]\n",
      "  ...\n",
      "  [232 220 178]\n",
      "  [232 220 178]\n",
      "  [232 220 178]]]\n"
     ]
    }
   ],
   "source": [
    "path = 'D:/anhdongvat.jpg'\n",
    "img = cv2.imread(path)\n",
    "print(img)"
   ]
  },
  {
   "cell_type": "code",
   "execution_count": 7,
   "id": "84b83ae8-150a-45ec-8086-33c15fa630a8",
   "metadata": {},
   "outputs": [
    {
     "name": "stdout",
     "output_type": "stream",
     "text": [
      "(729, 617, 3)\n",
      "729\n",
      "617\n",
      "3\n"
     ]
    }
   ],
   "source": [
    "#Lay kich thuoc\n",
    "print(img.shape)\n",
    "x, y, z = img.shape\n",
    "print(x)\n",
    "print(y)\n",
    "print(z)"
   ]
  },
  {
   "cell_type": "code",
   "execution_count": 9,
   "id": "3b9aec82-3b1d-4c1d-94c9-df983b03c6fb",
   "metadata": {},
   "outputs": [],
   "source": [
    "# Hiển thị ảnh\n",
    "cv2.imshow('Window', img)\n",
    "# Chờ một khoảng thời gian\n",
    "cv2.waitKey(10000)\n",
    "# Đóng window\n",
    "cv2.destroyWindow('Window')"
   ]
  },
  {
   "cell_type": "code",
   "execution_count": 11,
   "id": "9b1613fa-3c75-438e-993e-1a504268e941",
   "metadata": {},
   "outputs": [],
   "source": [
    "#Tach mau\n",
    "b, g, r = cv2.split(img)\n",
    "cv2.imshow('Window', img)\n",
    "cv2.imshow('Red', r)\n",
    "cv2.imshow('Green', g)\n",
    "cv2.imshow('Blue', b)\n",
    "#Cho 1 khoang tg\n",
    "cv2.waitKey(0)\n",
    "#Dong window\n",
    "cv2.destroyAllWindows()"
   ]
  },
  {
   "cell_type": "code",
   "execution_count": 13,
   "id": "1cc3cd21-fd3c-4eac-9f0a-185f1d3ca301",
   "metadata": {},
   "outputs": [],
   "source": [
    "gray_img = cv2.cvtColor(img, cv2.COLOR_BGR2GRAY)\n",
    "img_2 = cv2.cvtColor(img, cv2.COLOR_BGR2RGB)\n",
    "cv2.imshow('Window', img)\n",
    "cv2.imshow('gray_img', gray_img)\n",
    "cv2.imshow('img_2', img_2)\n",
    "#Cho 1 khoang tg\n",
    "cv2.waitKey(0)\n",
    "#Dong window\n",
    "cv2.destroyAllWindows()"
   ]
  },
  {
   "cell_type": "code",
   "execution_count": 15,
   "id": "3e3a5090-2dab-4a5a-bcf2-583fd117964e",
   "metadata": {},
   "outputs": [
    {
     "ename": "error",
     "evalue": "OpenCV(4.10.0) D:\\a\\opencv-python\\opencv-python\\opencv\\modules\\highgui\\src\\window_w32.cpp:1261: error: (-27:Null pointer) NULL window: 'Window' in function 'cvDestroyWindow'\n",
     "output_type": "error",
     "traceback": [
      "\u001b[1;31m---------------------------------------------------------------------------\u001b[0m",
      "\u001b[1;31merror\u001b[0m                                     Traceback (most recent call last)",
      "Cell \u001b[1;32mIn[15], line 18\u001b[0m\n\u001b[0;32m     16\u001b[0m         img2[y, x] \u001b[38;5;241m=\u001b[39m green_color\n\u001b[0;32m     17\u001b[0m \u001b[38;5;66;03m# Hiển thị\u001b[39;00m\n\u001b[1;32m---> 18\u001b[0m display(\u001b[38;5;124m'\u001b[39m\u001b[38;5;124mWindow\u001b[39m\u001b[38;5;124m'\u001b[39m, img)\n\u001b[0;32m     19\u001b[0m display(\u001b[38;5;124m'\u001b[39m\u001b[38;5;124mWindow-2\u001b[39m\u001b[38;5;124m'\u001b[39m, img2)\n",
      "Cell \u001b[1;32mIn[3], line 6\u001b[0m, in \u001b[0;36mdisplay\u001b[1;34m(title, img)\u001b[0m\n\u001b[0;32m      4\u001b[0m cv2\u001b[38;5;241m.\u001b[39mwaitKey(\u001b[38;5;241m0\u001b[39m)\n\u001b[0;32m      5\u001b[0m \u001b[38;5;66;03m#Dong window\u001b[39;00m\n\u001b[1;32m----> 6\u001b[0m cv2\u001b[38;5;241m.\u001b[39mdestroyWindow(title)\n",
      "\u001b[1;31merror\u001b[0m: OpenCV(4.10.0) D:\\a\\opencv-python\\opencv-python\\opencv\\modules\\highgui\\src\\window_w32.cpp:1261: error: (-27:Null pointer) NULL window: 'Window' in function 'cvDestroyWindow'\n"
     ]
    }
   ],
   "source": [
    "# Thay đổi thông số của điểm ảnh\n",
    "height, width, z = img.shape\n",
    "quater_h = height/2\n",
    "quater_w = width/2\n",
    "\n",
    "# geen color\n",
    "green_color = (0,255,0)\n",
    "\n",
    "# copy ảnh\n",
    "img2 = img.copy()\n",
    "\n",
    "# thay đổi màu của góc 1/4 bên trái trên\n",
    "\n",
    "for y in range(int(quater_h)):\n",
    "    for x in range(int(quater_w)):\n",
    "        img2[y, x] = green_color\n",
    "# Hiển thị\n",
    "display('Window', img)\n",
    "display('Window-2', img2)"
   ]
  }
 ],
 "metadata": {
  "kernelspec": {
   "display_name": "Python 3 (ipykernel)",
   "language": "python",
   "name": "python3"
  },
  "language_info": {
   "codemirror_mode": {
    "name": "ipython",
    "version": 3
   },
   "file_extension": ".py",
   "mimetype": "text/x-python",
   "name": "python",
   "nbconvert_exporter": "python",
   "pygments_lexer": "ipython3",
   "version": "3.12.4"
  }
 },
 "nbformat": 4,
 "nbformat_minor": 5
}
