{
 "cells": [
  {
   "cell_type": "code",
   "execution_count": null,
   "id": "38a81d77-0a1d-4a73-bd5b-4253a60488de",
   "metadata": {},
   "outputs": [],
   "source": [
    "import numpy as np \n",
    "import matplotlib.pyplot as plt\n",
    "from scipy import ndimage\n",
    "from PIL import Image\n",
    "#Doc anh\n",
    "image = Image.open('C:/Users/nk/Pictures/Meme/taj.jpg')\n",
    "#Chuyen anh vung xam \n",
    "gray_image= image.convert('L')\n",
    "image_array= np.array(gray_image)\n",
    "#Chuyen sang anh nhi phan\n",
    "binary_image= 1*(image_array<200)\n",
    "#Danh nhan\n",
    "labeled_image, num_features = ndimage.label(binary_image)\n",
    "#Tao luoi subplot voi 3 dong va 1 cot\n",
    "fig, axs = plt.subplots(3, 1, figsize=(50, 50))\n",
    "\n",
    "plt.subplot(3,1,1)\n",
    "plt.imshow(gray_image, cmap='gray')\n",
    "plt.title(\"Anh xam\")\n",
    "\n",
    "plt.subplot(3,1,2)\n",
    "plt.imshow(binary_image, cmap='gray')\n",
    "plt.title(\"A\")\n",
    "\n",
    "plt.subplot(3,1,3)\n",
    "plt.imshow(labeled_image, cmap='gray')\n",
    "plt.title(f\"Đã đánh nhãn ({num_features} đối tượng)\")\n",
    "\n",
    "plt.show();"
   ]
  }
 ],
 "metadata": {
  "kernelspec": {
   "display_name": "Python 3 (ipykernel)",
   "language": "python",
   "name": "python3"
  },
  "language_info": {
   "codemirror_mode": {
    "name": "ipython",
    "version": 3
   },
   "file_extension": ".py",
   "mimetype": "text/x-python",
   "name": "python",
   "nbconvert_exporter": "python",
   "pygments_lexer": "ipython3",
   "version": "3.12.4"
  }
 },
 "nbformat": 4,
 "nbformat_minor": 5
}
