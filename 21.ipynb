{
 "cells": [
  {
   "cell_type": "code",
   "execution_count": 2,
   "id": "ab58a32b-8b6a-4ed2-992d-ada417f529e5",
   "metadata": {},
   "outputs": [],
   "source": [
    "import cv2\n",
    "import time"
   ]
  },
  {
   "cell_type": "code",
   "execution_count": 4,
   "id": "13991dea-b565-4811-a1ea-7abf620ef6cb",
   "metadata": {},
   "outputs": [],
   "source": [
    "#Doc video tu file\n",
    "my_video = cv2.VideoCapture('./data/vid1.mp4')"
   ]
  },
  {
   "cell_type": "code",
   "execution_count": 5,
   "id": "11835007-cb06-4a14-96d6-64e07b8cb3b3",
   "metadata": {},
   "outputs": [],
   "source": [
    "#Tao cua so hien thi\n",
    "cv2.namedWindow('Video Player', cv2.WINDOW_NORMAL)\n"
   ]
  },
  {
   "cell_type": "code",
   "execution_count": 6,
   "id": "8688c0f5-35df-4876-ac1b-36d5467ef13f",
   "metadata": {},
   "outputs": [],
   "source": [
    "#Hien thi tung khung hinh \n",
    "while True:\n",
    "    #Doc 1 frame\n",
    "    ret, frame = my_video.read()\n",
    "\n",
    "#Thoat khi ko doc frame\n",
    "    if not ret:\n",
    "        break\n",
    "\n",
    "#Hien thi\n",
    "    cv2.imshow('Video Player', frame)\n",
    "    if (cv2.waitKey(10)==ord('q')):\n",
    "        break"
   ]
  },
  {
   "cell_type": "code",
   "execution_count": 8,
   "id": "270298ea-d226-402c-9d46-dd070bb733ff",
   "metadata": {},
   "outputs": [],
   "source": [
    "#Huy bo player \n",
    "my_video.release\n",
    "cv2.destroyAllWindows()"
   ]
  }
 ],
 "metadata": {
  "kernelspec": {
   "display_name": "Python 3 (ipykernel)",
   "language": "python",
   "name": "python3"
  },
  "language_info": {
   "codemirror_mode": {
    "name": "ipython",
    "version": 3
   },
   "file_extension": ".py",
   "mimetype": "text/x-python",
   "name": "python",
   "nbconvert_exporter": "python",
   "pygments_lexer": "ipython3",
   "version": "3.12.4"
  }
 },
 "nbformat": 4,
 "nbformat_minor": 5
}
